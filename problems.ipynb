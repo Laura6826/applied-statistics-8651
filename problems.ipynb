{
 "cells": [
  {
   "cell_type": "markdown",
   "id": "53ba4dea",
   "metadata": {},
   "source": [
    "# <span style=\"color:orange\"> Problems.<span>\n",
    "*By Laura Lyons*\n",
    "***"
   ]
  },
  {
   "cell_type": "markdown",
   "id": "cd72b642",
   "metadata": {},
   "source": [
    "## <span style=\"color:orange\"> Table of contents<span>\n",
    "***\n",
    "1. [Introduction](#1-introduction)\n",
    "2. [Assigended Problems](#)\\\n",
    "   2.1. [Problem 01-Extending the Lady Tasting Tea](#problem-01---extending-the-lady-tasting-tea)\\\n",
    "   2.2. [Problem 02-Normal Distribution](#problem-02---normal-distribution)\\\n",
    "   2.3. [Problem 03-t-Tests](#problem-03----t-tests)\\\n",
    "   2.4. [Problem 04-ANOVA](#problem-04----anova)\n",
    "3. [References](#references)\n"
   ]
  },
  {
   "cell_type": "markdown",
   "id": "8cf7c54a",
   "metadata": {},
   "source": [
    "## <span style=\"color:orange\"> 1. Introduction <span>\n",
    "\n",
    "This notebook was created to fulfill an assessment requirement of Applied Statistics 25-25:(8651), Higher Diploma in Science, Data Analytics, as part of the H.Dip in Science in Data Analytics.\n",
    "\n",
    "Each week, following a series of lectures, an problem was set, to demonstrate both learning and additional reading/research on the topics discussed in the lectures.\n",
    "\n",
    "This notebook is a collection of the solutions to the problems set, including some additional guidance and instruction on how to run each assignment/program.\n",
    "\n",
    "***"
   ]
  },
  {
   "cell_type": "markdown",
   "id": "b76c46de",
   "metadata": {},
   "source": [
    "## <span style=\"color:orange\">2. Assigned Problems<span>"
   ]
  },
  {
   "cell_type": "markdown",
   "id": "181de7bc",
   "metadata": {},
   "source": [
    "## **Problem 01 - Extending the Lady Tasting Tea**\n",
    "\n",
    "**1.1 Assignment Instructions:**\n",
    "\n",
    "Let's extend the Lady Tasting Tea experiment as follows. The original experiment has 8 cups: 4 tea-first and 4 milk-first. Suppose we prepare 12 cups: 8 tea-first and 4 milk-first. A participant claims they can tell which was poured first.\n",
    "\n",
    "Simulate this experiment using numpy by randomly shuffling the cups many times and calculating the probability of the participant correctly identifying all cups by chance. Compare your result with the original 8-cup experiment.\n",
    "\n",
    "In your notebook, explain your simulation process clearly, report and interpret the estimated probability, and discuss whether, based on this probability, you would consider extending or relaxing the p-value threshold compared to the original design."
   ]
  },
  {
   "cell_type": "markdown",
   "id": "12266127",
   "metadata": {},
   "source": [
    "**1.2 Objective**\n",
    "\n",
    "The objective of this problem is to simulate the *'Lady Testing Tea'* experiment and compare the probability of correctly identifyig all milk-first ups by changes in:\n",
    "1. The original 8-cup setup (4 milk-first, 4 tea-first).\n",
    "1. An extended 12-cup setup (4 milk-first, 8 tea-first).\n"
   ]
  },
  {
   "cell_type": "markdown",
   "id": "a6c9627b",
   "metadata": {},
   "source": [
    "First we need to import our prerequisites"
   ]
  },
  {
   "cell_type": "code",
   "execution_count": 33,
   "id": "8c4a7808",
   "metadata": {},
   "outputs": [],
   "source": [
    "# Mathematical functions from the standard library.\n",
    "# https://docs.python.org/3/library/math.html\n",
    "import math\n",
    "\n",
    "# Permutations and combinations.\n",
    "# https://docs.python.org/3/library/itertools.html\n",
    "import itertools\n",
    "\n",
    "# Random selections.\n",
    "# https://docs.python.org/3/library/random.html\n",
    "import random\n",
    "\n",
    "# Numerical structures and operations.\n",
    "# https://numpy.org/doc/stable/reference/index.html#reference\n",
    "import numpy as np\n",
    "\n",
    "# Plotting.\n",
    "# https://matplotlib.org/stable/contents.html\n",
    "import matplotlib.pyplot as plt"
   ]
  },
  {
   "cell_type": "markdown",
   "id": "e4fb27d8",
   "metadata": {},
   "source": [
    "Initially we need to define some basic parameters, including the number of cups in total for each experiment,i.e. the original and the extended experient."
   ]
  },
  {
   "cell_type": "code",
   "execution_count": 21,
   "id": "a739bd21",
   "metadata": {},
   "outputs": [
    {
     "data": {
      "text/plain": [
       "70"
      ]
     },
     "execution_count": 21,
     "metadata": {},
     "output_type": "execute_result"
    }
   ],
   "source": [
    "# Number of cups of tea in total.\n",
    "original_number_cups = 8\n",
    "extended_number_cups = 12\n",
    "\n",
    "# Number of cups of tea with milk in first.\n",
    "original_number_cups_milk_first = 4\n",
    "extended_number_cups_milk_first = 4\n",
    "\n",
    "# Number of cups of tea with tea in first.\n",
    "original_number_cups_tea_first = 4\n",
    "extended_number_cups_tea_first = 8\n",
    "\n",
    "# Number of ways of selecting four cups from eight.\n",
    "original_ways = math.comb(original_number_cups, original_number_cups_milk_first)\n",
    "extended_ways = math.comb(extended_number_cups, extended_number_cups_milk_first)\n",
    "\n",
    "# Show original number of ways (answer= 70)\n",
    "original_ways"
   ]
  },
  {
   "cell_type": "code",
   "execution_count": null,
   "id": "b4250dc3",
   "metadata": {},
   "outputs": [
    {
     "data": {
      "text/plain": [
       "495"
      ]
     },
     "execution_count": 12,
     "metadata": {},
     "output_type": "execute_result"
    }
   ],
   "source": [
    "# Show extended number of ways (answer= 495)\n",
    "extended_ways"
   ]
  },
  {
   "cell_type": "code",
   "execution_count": null,
   "id": "0bed67e5",
   "metadata": {},
   "outputs": [
    {
     "data": {
      "text/plain": [
       "1680"
      ]
     },
     "execution_count": 13,
     "metadata": {},
     "output_type": "execute_result"
    }
   ],
   "source": [
    "# Total number of ways of selecting four cups from eight, keeping them in order.\n",
    "original_ways_ordered = 8 * 7 * 6 * 5\n",
    "\n",
    "# Show total number of ordered ways (answer= 1680)\n",
    "original_ways_ordered"
   ]
  },
  {
   "cell_type": "code",
   "execution_count": 17,
   "id": "79f49632",
   "metadata": {},
   "outputs": [
    {
     "data": {
      "text/plain": [
       "11880"
      ]
     },
     "execution_count": 17,
     "metadata": {},
     "output_type": "execute_result"
    }
   ],
   "source": [
    "# Total number of ways of selecting four cups from 12, keeping them in order.\n",
    "extended_ways_ordered = 12 * 11 * 10 * 9\n",
    "\n",
    "# Show total number of ordered ways (answer= 11880)\n",
    "extended_ways_ordered"
   ]
  },
  {
   "cell_type": "markdown",
   "id": "9c00ba2a",
   "metadata": {},
   "source": [
    "In this experiement, we need to build in the functionality to deal with the fact that:\n",
    "- the same cup cannot be selected twice, and\n",
    "- the order of the cup combination does not matter."
   ]
  },
  {
   "cell_type": "code",
   "execution_count": null,
   "id": "bcfaf181",
   "metadata": {},
   "outputs": [
    {
     "data": {
      "text/plain": [
       "24"
      ]
     },
     "execution_count": 14,
     "metadata": {},
     "output_type": "execute_result"
    }
   ],
   "source": [
    "# No of ways of shuffling four cups.\n",
    "number_shuffles = 4 * 3 * 2 * 1\n",
    "\n",
    "# Number of combinations\n",
    "original_number_of_combinations = original_ways_ordered // number_shuffles\n",
    "# Floor division operator (//) was used to ensure that the answer retured is an integer, and not a float\n",
    "# Reference: https://docs.python.org/3/tutorial/floatingpoint.html\n",
    "\n",
    "# Show original number of combinations (answer= 24)\n",
    "original_number_of_combinations"
   ]
  },
  {
   "cell_type": "code",
   "execution_count": null,
   "id": "6cb64812",
   "metadata": {},
   "outputs": [
    {
     "data": {
      "text/plain": [
       "495"
      ]
     },
     "execution_count": 18,
     "metadata": {},
     "output_type": "execute_result"
    }
   ],
   "source": [
    "# Number of combinations\n",
    "extended_number_of_combinations = extended_ways_ordered // number_shuffles\n",
    "\n",
    "# Show extended number of combinations (answer= 495)\n",
    "extended_number_of_combinations"
   ]
  },
  {
   "cell_type": "markdown",
   "id": "0ac99f04",
   "metadata": {},
   "source": [
    "We address the ordering of the results by providing each cup with a unique label (order not relevant), and then convert this list into a set."
   ]
  },
  {
   "cell_type": "code",
   "execution_count": 22,
   "id": "39a4632c",
   "metadata": {},
   "outputs": [],
   "source": [
    "# The cup labels.\n",
    "original_labels = list(range(original_number_cups))\n",
    "extended_labels = list(range(extended_number_cups))"
   ]
  },
  {
   "cell_type": "code",
   "execution_count": null,
   "id": "170c208d",
   "metadata": {},
   "outputs": [
    {
     "data": {
      "text/plain": [
       "[0, 1, 2, 3, 4, 5, 6, 7]"
      ]
     },
     "execution_count": 23,
     "metadata": {},
     "output_type": "execute_result"
    }
   ],
   "source": [
    "# Show original labels.\n",
    "original_labels"
   ]
  },
  {
   "cell_type": "code",
   "execution_count": 24,
   "id": "05b27725",
   "metadata": {},
   "outputs": [
    {
     "data": {
      "text/plain": [
       "[0, 1, 2, 3, 4, 5, 6, 7, 8, 9, 10, 11]"
      ]
     },
     "execution_count": 24,
     "metadata": {},
     "output_type": "execute_result"
    }
   ],
   "source": [
    "# Show extended labels.\n",
    "extended_labels"
   ]
  },
  {
   "cell_type": "markdown",
   "id": "e3a3e8be",
   "metadata": {},
   "source": [
    "We now need to calculate the number of different ways of selecting *number_cups_milk_first* of *number_cups*, cups of tea, for both iterations of the experiment."
   ]
  },
  {
   "cell_type": "code",
   "execution_count": 29,
   "id": "d17d6195",
   "metadata": {},
   "outputs": [],
   "source": [
    "# Show the different ways of selecting *no_cups_milk_first* out of no_cups cups of tea.\n",
    "original_combinations = list(itertools.combinations(original_labels, original_number_cups_milk_first))\n",
    "extended_combinations = list(itertools.combinations(extended_labels, extended_number_cups_milk_first))"
   ]
  },
  {
   "cell_type": "markdown",
   "id": "68aba018",
   "metadata": {},
   "source": [
    "We can now check the number of combinations generated, for both iterations of the experiment."
   ]
  },
  {
   "cell_type": "code",
   "execution_count": null,
   "id": "19b7eca3",
   "metadata": {},
   "outputs": [
    {
     "data": {
      "text/plain": [
       "70"
      ]
     },
     "execution_count": 30,
     "metadata": {},
     "output_type": "execute_result"
    }
   ],
   "source": [
    "# Number of original combinations.\n",
    "len(original_combinations)"
   ]
  },
  {
   "cell_type": "code",
   "execution_count": null,
   "id": "5815ea22",
   "metadata": {},
   "outputs": [
    {
     "data": {
      "text/plain": [
       "495"
      ]
     },
     "execution_count": 31,
     "metadata": {},
     "output_type": "execute_result"
    }
   ],
   "source": [
    "# Number of extended combinations.\n",
    "len(extended_combinations) "
   ]
  },
  {
   "cell_type": "markdown",
   "id": "013b44f7",
   "metadata": {},
   "source": [
    "We need to select four random cups to put milk in first.For this we use, \n",
    "\n",
    "```ruby\n",
    "    random.sample(population,k,*,counts=none)\n",
    "```\n",
    "\n",
    "Used for [random sampling](https://docs.python.org/3/library/random.html#random.sample) without replacement. \n",
    "\n",
    "After which, we must convert the randomly generated list into a set."
   ]
  },
  {
   "cell_type": "code",
   "execution_count": 42,
   "id": "588b6a0b",
   "metadata": {},
   "outputs": [
    {
     "data": {
      "text/plain": [
       "{2, 3, 4, 5}"
      ]
     },
     "execution_count": 42,
     "metadata": {},
     "output_type": "execute_result"
    }
   ],
   "source": [
    "# Select four cups at random to put milk in first.\n",
    "original_labels_milk = random.sample(original_labels, 4)\n",
    "extended_labels_milk = random.sample(extended_labels, 4)\n",
    "\n",
    "# Sort, inplace to make comparison easier.\n",
    "original_labels_milk.sort()\n",
    "extended_labels_milk.sort()\n",
    "\n",
    "# Convert to sets.\n",
    "original_labels_milk = set(original_labels_milk)\n",
    "extended_labels_milk = set(extended_labels_milk)\n",
    "\n",
    "# Show.\n",
    "original_labels_milk\n"
   ]
  },
  {
   "cell_type": "code",
   "execution_count": 43,
   "id": "3a2f7b6e",
   "metadata": {},
   "outputs": [
    {
     "data": {
      "text/plain": [
       "{0, 2, 5, 7}"
      ]
     },
     "execution_count": 43,
     "metadata": {},
     "output_type": "execute_result"
    }
   ],
   "source": [
    "# Show.\n",
    "extended_labels_milk"
   ]
  },
  {
   "cell_type": "markdown",
   "id": "08ce644e",
   "metadata": {},
   "source": [
    "We now need to calculate the overlap between each element of combinations and original_labels_milk and extended_labels_milk."
   ]
  },
  {
   "cell_type": "code",
   "execution_count": 58,
   "id": "38e81804",
   "metadata": {},
   "outputs": [
    {
     "name": "stdout",
     "output_type": "stream",
     "text": [
      "[2, 2, 2, 1, 1, 2, 2, 1, 1, 2, 1, 1, 1, 1, 0, 3, 3, 2, 2, 3, 2, 2, 2, 2, 1, 3, 2, 2, 2, 2, 1, 2, 2, 1, 1, 3, 3, 2, 2, 3, 2, 2, 2, 2, 1, 3, 2, 2, 2, 2, 1, 2, 2, 1, 1, 4, 3, 3, 3, 3, 2, 3, 3, 2, 2, 3, 3, 2, 2, 2]\n"
     ]
    }
   ],
   "source": [
    "# Calculate the overlap between each element of combs and original_labels_milk.\n",
    "\n",
    "original_number_overlaps = []\n",
    "\n",
    "# Loop through the original combinations.\n",
    "for comb in original_combinations:\n",
    "  # Turn comb into a set.\n",
    "  s1 = set(comb)\n",
    "  # Turn original_labels_milk into a set.\n",
    "  s2 = set(original_labels_milk)\n",
    "  # Figure out where they overlap.\n",
    "  original_overlap = s1.intersection(s2)\n",
    "  # Show the combination and the overlap.\n",
    "  # print(comb, len(original_overlap), original_overlap)\n",
    "  # Append overlap to original_number_overlaps.\n",
    "  original_number_overlaps.append(len(original_overlap))\n",
    "\n",
    "  # Show the overlaps.\n",
    "print(original_number_overlaps)"
   ]
  },
  {
   "cell_type": "code",
   "execution_count": 59,
   "id": "c046c087",
   "metadata": {},
   "outputs": [
    {
     "name": "stdout",
     "output_type": "stream",
     "text": [
      "[2, 2, 3, 2, 3, 2, 2, 2, 2, 1, 2, 1, 2, 1, 1, 1, 1, 2, 1, 2, 1, 1, 1, 1, 2, 3, 2, 2, 2, 2, 2, 1, 1, 1, 1, 2, 2, 2, 2, 1, 1, 1, 1, 1, 1, 2, 3, 2, 3, 2, 2, 2, 2, 3, 2, 3, 2, 2, 2, 2, 3, 4, 3, 3, 3, 3, 3, 2, 2, 2, 2, 3, 3, 3, 3, 2, 2, 2, 2, 2, 2, 2, 1, 2, 1, 1, 1, 1, 2, 3, 2, 2, 2, 2, 2, 1, 1, 1, 1, 2, 2, 2, 2, 1, 1, 1, 1, 1, 1, 2, 3, 2, 2, 2, 2, 2, 1, 1, 1, 1, 2, 2, 2, 2, 1, 1, 1, 1, 1, 1, 3, 2, 2, 2, 2, 3, 3, 3, 3, 2, 2, 2, 2, 2, 2, 2, 2, 2, 2, 1, 1, 1, 1, 1, 1, 2, 2, 2, 2, 2, 2, 1, 1, 1, 1, 1, 2, 1, 2, 1, 1, 1, 1, 2, 1, 2, 1, 1, 1, 1, 2, 3, 2, 2, 2, 2, 2, 1, 1, 1, 1, 2, 2, 2, 2, 1, 1, 1, 1, 1, 1, 1, 0, 1, 0, 0, 0, 0, 1, 2, 1, 1, 1, 1, 1, 0, 0, 0, 0, 1, 1, 1, 1, 0, 0, 0, 0, 0, 0, 1, 2, 1, 1, 1, 1, 1, 0, 0, 0, 0, 1, 1, 1, 1, 0, 0, 0, 0, 0, 0, 2, 1, 1, 1, 1, 2, 2, 2, 2, 1, 1, 1, 1, 1, 1, 1, 1, 1, 1, 0, 0, 0, 0, 0, 0, 1, 1, 1, 1, 1, 1, 0, 0, 0, 0, 2, 1, 2, 1, 1, 1, 1, 2, 3, 2, 2, 2, 2, 2, 1, 1, 1, 1, 2, 2, 2, 2, 1, 1, 1, 1, 1, 1, 2, 3, 2, 2, 2, 2, 2, 1, 1, 1, 1, 2, 2, 2, 2, 1, 1, 1, 1, 1, 1, 3, 2, 2, 2, 2, 3, 3, 3, 3, 2, 2, 2, 2, 2, 2, 2, 2, 2, 2, 1, 1, 1, 1, 1, 1, 2, 2, 2, 2, 2, 2, 1, 1, 1, 1, 1, 2, 1, 1, 1, 1, 1, 0, 0, 0, 0, 1, 1, 1, 1, 0, 0, 0, 0, 0, 0, 2, 1, 1, 1, 1, 2, 2, 2, 2, 1, 1, 1, 1, 1, 1, 1, 1, 1, 1, 0, 0, 0, 0, 0, 0, 1, 1, 1, 1, 1, 1, 0, 0, 0, 0, 2, 1, 1, 1, 1, 2, 2, 2, 2, 1, 1, 1, 1, 1, 1, 1, 1, 1, 1, 0, 0, 0, 0, 0, 0, 1, 1, 1, 1, 1, 1, 0, 0, 0, 0, 2, 2, 2, 2, 1, 1, 1, 1, 1, 1, 2, 2, 2, 2, 2, 2, 1, 1, 1, 1, 1, 1, 1, 1, 1, 1, 0, 0, 0, 0, 1, 1, 1, 1, 0]\n"
     ]
    }
   ],
   "source": [
    "# Calculate the overlap between each element of combs and extended_labels_milk.\n",
    "\n",
    "extended_number_overlaps = []\n",
    "\n",
    "# Loop through the extended combinations.\n",
    "for comb in extended_combinations:\n",
    "  # Turn comb into a set.\n",
    "  s3 = set(comb)\n",
    "  # Turn extended_labels_milk into a set.\n",
    "  s4 = set(extended_labels_milk)\n",
    "  # Figure out where they overlap.\n",
    "  extended_overlap = s3.intersection(s4)\n",
    "  # Show the combination and the extended overlap.\n",
    "  # print(comb, len(extended_overlap), extended_overlap)\n",
    "  # Append overlap to extended_number_overlaps.\n",
    "  extended_number_overlaps.append(len(extended_overlap))\n",
    "\n",
    "# Show the overlaps.\n",
    "print(extended_number_overlaps)"
   ]
  },
  {
   "cell_type": "code",
   "execution_count": 60,
   "id": "0276e197",
   "metadata": {},
   "outputs": [
    {
     "data": {
      "text/plain": [
       "(array([0, 1, 2, 3, 4]), array([ 1, 16, 36, 16,  1]))"
      ]
     },
     "execution_count": 60,
     "metadata": {},
     "output_type": "execute_result"
    }
   ],
   "source": [
    "# Count the number of times each original_overlap occurs.\n",
    "original_counts = np.unique(original_number_overlaps, return_counts=True)\n",
    "\n",
    "# Show.\n",
    "original_counts"
   ]
  },
  {
   "cell_type": "code",
   "execution_count": 61,
   "id": "7f118f65",
   "metadata": {},
   "outputs": [
    {
     "data": {
      "text/plain": [
       "(array([0, 1, 2, 3, 4]), array([ 70, 224, 168,  32,   1]))"
      ]
     },
     "execution_count": 61,
     "metadata": {},
     "output_type": "execute_result"
    }
   ],
   "source": [
    "# Count the number of times each extended_overlap occurs.\n",
    "extended_counts = np.unique(extended_number_overlaps, return_counts=True)\n",
    "\n",
    "# Show.\n",
    "extended_counts"
   ]
  },
  {
   "cell_type": "markdown",
   "id": "d6a6a30f",
   "metadata": {},
   "source": [
    "Now lets create a viualisation of the number of times that each overlap occurs for each iteratio of the experiment."
   ]
  },
  {
   "cell_type": "code",
   "execution_count": null,
   "id": "23c464f4",
   "metadata": {},
   "outputs": [
    {
     "data": {
      "image/png": "[encoded data removed]",
      "text/plain": [
       "<Figure size 800x500 with 1 Axes>"
      ]
     },
     "metadata": {},
     "output_type": "display_data"
    }
   ],
   "source": [
    "# Original and extended data\n",
    "original_counts = (np.array([0, 1, 2, 3, 4]), np.array([1, 16, 36, 16, 1]))\n",
    "extended_counts = (np.array([0, 1, 2, 3, 4]), np.array([70, 224, 168, 32, 1]))\n",
    "\n",
    "# Bar width and positions\n",
    "bar_width = 0.4\n",
    "x = original_counts[0]\n",
    "x_original = x - bar_width / 2\n",
    "x_extended = x + bar_width / 2\n",
    "\n",
    "# Create figure\n",
    "fig, ax = plt.subplots(figsize=(8, 5))\n",
    "\n",
    "# Plot bars\n",
    "ax.bar(x_original, original_counts[1], width=bar_width, color='blue', label='Original')\n",
    "ax.bar(x_extended, extended_counts[1], width=bar_width, color='orange', label='Extended')\n",
    "\n",
    "# Labels and title\n",
    "ax.set_xlabel('Number of cups overlapping the prediction original_combination')\n",
    "ax.set_ylabel('Frequency')\n",
    "ax.set_title('Comparison of Original and Extended Overlap Distributions')\n",
    "ax.legend()\n",
    "\n",
    "# Value labels\n",
    "for x_val, y_val in zip(x_original, original_counts[1]):\n",
    "    ax.text(x_val, y_val + 2, str(y_val), ha='center', fontsize=9)\n",
    "for x_val, y_val in zip(x_extended, extended_counts[1]):\n",
    "    ax.text(x_val, y_val + 2, str(y_val), ha='center', fontsize=9)\n",
    "\n",
    "plt.tight_layout()\n",
    "plt.show()\n"
   ]
  },
  {
   "cell_type": "code",
   "execution_count": null,
   "id": "a5feff74",
   "metadata": {},
   "outputs": [
    {
     "data": {
      "image/png": "[encoded data removed]",
      "text/plain": [
       "<Figure size 1000x600 with 1 Axes>"
      ]
     },
     "metadata": {},
     "output_type": "display_data"
    }
   ],
   "source": [
    "# Creating overlay plot of probability curves for original and extended overlap distributions\n",
    "# Original and extended frequency data\n",
    "original_counts = (np.array([0, 1, 2, 3, 4]), np.array([1, 16, 36, 16, 1]))\n",
    "extended_counts = (np.array([0, 1, 2, 3, 4]), np.array([70, 224, 168, 32, 1]))\n",
    "\n",
    "# Normalize to convert frequencies into probabilities\n",
    "original_probs = original_counts[1] / np.sum(original_counts[1])\n",
    "extended_probs = extended_counts[1] / np.sum(extended_counts[1])\n",
    "\n",
    "# Create the plot\n",
    "plt.style.use('seaborn-v0_8') # the -v0_8 version of the seaborn style is used for better aesthetics, as 'seaborn' alone has depreciated.\n",
    "plt.figure(figsize=(10, 6))\n",
    "\n",
    "# Plot original probability curve\n",
    "plt.plot(original_counts[0], original_probs, label='Original Distribution', color='blue', linestyle='-', marker='o')\n",
    "\n",
    "# Plot extended probability curve\n",
    "plt.plot(extended_counts[0], extended_probs, label='Extended Distribution', color='orange', linestyle='--', marker='s')\n",
    "\n",
    "# Add labels and title\n",
    "plt.xlabel('Number of cups overlapping the prediction original_combination')\n",
    "plt.ylabel('Probability')\n",
    "plt.title('Probability Curves: Original vs Extended Overlap Distributions')\n",
    "plt.legend()\n",
    "plt.grid(True)\n",
    "plt.tight_layout()\n"
   ]
  },
  {
   "cell_type": "markdown",
   "id": "fff29b5c",
   "metadata": {},
   "source": [
    "## 3. Discussion & Conclusion\n",
    "\n",
    "**The Null Hypothesis**\n",
    "- The lady has no special power to tell the difference between cups of tea with milk in first and cups of tea with tea in first.\n",
    "\n",
    "- The lady is selecting the four cups from the eight cups at random.\n",
    "\n",
    "**Alternative Hypothesis**\n",
    "- The lady can tell the difference.\n",
    "\n"
   ]
  },
  {
   "cell_type": "markdown",
   "id": "e635bf77",
   "metadata": {},
   "source": [
    "***"
   ]
  },
  {
   "cell_type": "markdown",
   "id": "2a7b28c7",
   "metadata": {},
   "source": [
    "## **Problem 02 - Normal Distribution**\n",
    "\n",
    "**Assignment Instructions:**\n",
    "\n",
    "Generate 100,000 samples of size 10 from the standard normal distribution. For each sample, compute the standard deviation with ddof=1 (sample SD) and with ddof=0 (population SD). Plot histograms of both sets of values on the same axes with transparency. Describe the differences you see. Explain how you expect these differences to change if the sample size is increased."
   ]
  },
  {
   "cell_type": "markdown",
   "id": "2f608d76",
   "metadata": {},
   "source": [
    "***"
   ]
  },
  {
   "cell_type": "markdown",
   "id": "c2736cd3",
   "metadata": {},
   "source": [
    "## **Problem 03 -  t-Tests**\n",
    "\n",
    "**Assignment Instructions:**\n",
    "\n",
    "A type II error occurs when a test fails to reject the null hypothesis even though it is false.\n",
    "For each mean difference $d = 0, 0.1, 0.2, \\dots, 1.0$, repeat the following simulation 1,000 times:\n",
    "\n",
    "1. Draw two samples of size 100, one from the standard normal distribution and one from the normal distribution with mean $d$ and standard deviation 1.\n",
    "2. Run an independent samples t-test on the two samples, rejecting the null hypothesis if the p-value is less than 0.05.\n",
    "3. Record the proportion of times the null hypothesis is not rejected.\n",
    "\n",
    "Plot this proportion against $d$, and explain how the type II error rate changes as the difference in means increases."
   ]
  },
  {
   "cell_type": "markdown",
   "id": "02a3bab9",
   "metadata": {},
   "source": [
    "***"
   ]
  },
  {
   "cell_type": "markdown",
   "id": "2446e338",
   "metadata": {},
   "source": [
    "## **Problem 04 -  ANOVA**\n",
    "\n",
    "**Assignment Instructions:**\n",
    "\n",
    "Generate three independent samples, each of size 30, from normal distributions with means 0, 0.5, and 1, each with standard deviation 1.\n",
    "\n",
    "1. Perform a one-way ANOVA to test whether all three means are equal.\n",
    "2. Perform three independent two-sample t-tests: samples 1 vs 2, 1 vs 3, and 2 vs 3.\n",
    "3. Compare the conclusions.\n",
    "\n",
    "Write a short note on why ANOVA is preferred over running several t-tests."
   ]
  },
  {
   "cell_type": "markdown",
   "id": "2222ec5c",
   "metadata": {},
   "source": [
    "***\n",
    "\n",
    "### End"
   ]
  }
 ],
 "metadata": {
  "kernelspec": {
   "display_name": "Python 3",
   "language": "python",
   "name": "python3"
  },
  "language_info": {
   "codemirror_mode": {
    "name": "ipython",
    "version": 3
   },
   "file_extension": ".py",
   "mimetype": "text/x-python",
   "name": "python",
   "nbconvert_exporter": "python",
   "pygments_lexer": "ipython3",
   "version": "3.13.7"
  }
 },
 "nbformat": 4,
 "nbformat_minor": 5
}
