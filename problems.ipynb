{
 "cells": [
  {
   "cell_type": "markdown",
   "id": "53ba4dea",
   "metadata": {},
   "source": [
    "# <span style=\"color:orange\"> Problems.<span>\n",
    "*By Laura Lyons*\n",
    "***"
   ]
  },
  {
   "cell_type": "markdown",
   "id": "cd72b642",
   "metadata": {},
   "source": [
    "## <span style=\"color:orange\"> Table of contents<span>\n",
    "***\n",
    "1. [Introduction](#1-introduction)\n",
    "2. [Problems](#)\\\n",
    "   2.1. [Problem 01-Extending the Lady Tasting Tea](#problem-01---extending-the-lady-tasting-tea)\\\n",
    "   2.2. [Problem 02-Normal Distribution](#problem-02---normal-distribution)\\\n",
    "   2.3. [Problem 03-t-Tests](#problem-03----t-tests)\\\n",
    "   2.4. [Problem 04-ANOVA](#problem-04----anova)\n",
    "3. [References](#references)\n"
   ]
  },
  {
   "cell_type": "markdown",
   "id": "8cf7c54a",
   "metadata": {},
   "source": [
    "## <span style=\"color:orange\"> 1. Introduction <span>\n",
    "\n",
    "This notebook was created to fulfill an assessment requirement of Applied Statistics 25-25:(8651), Higher Diploma in Science, Data Analytics, as part of the H.Dip in Science in Data Analytics.\n",
    "\n",
    "Each week, following a series of lectures, an problem was set, to demonstrate both learning and additional reading/research on the topics discussed in the lectures.\n",
    "\n",
    "This notebook is a collection of the solutions to the problems set, including some additional guidance and instruction on how to run each assignment/program.\n",
    "\n",
    "***"
   ]
  },
  {
   "cell_type": "markdown",
   "id": "b76c46de",
   "metadata": {},
   "source": [
    "## <span style=\"color:orange\">**6. Assigned Problems**<span>"
   ]
  },
  {
   "cell_type": "markdown",
   "id": "181de7bc",
   "metadata": {},
   "source": [
    "## **Problem 01** - Extending the Lady Tasting Tea\n",
    "\n",
    "**Assignment Instructions:**\n",
    "\n",
    "Let's extend the Lady Tasting Tea experiment as follows. The original experiment has 8 cups: 4 tea-first and 4 milk-first. Suppose we prepare 12 cups: 8 tea-first and 4 milk-first. A participant claims they can tell which was poured first.\n",
    "\n",
    "Simulate this experiment using numpy by randomly shuffling the cups many times and calculating the probability of the participant correctly identifying all cups by chance. Compare your result with the original 8-cup experiment.\n",
    "\n",
    "In your notebook, explain your simulation process clearly, report and interpret the estimated probability, and discuss whether, based on this probability, you would consider extending or relaxing the p-value threshold compared to the original design."
   ]
  },
  {
   "cell_type": "markdown",
   "id": "2a7b28c7",
   "metadata": {},
   "source": [
    "## **Problem 02** - Normal Distribution\n",
    "\n",
    "**Assignment Instructions:**\n",
    "\n",
    "Generate 100,000 samples of size 10 from the standard normal distribution. For each sample, compute the standard deviation with ddof=1 (sample SD) and with ddof=0 (population SD). Plot histograms of both sets of values on the same axes with transparency. Describe the differences you see. Explain how you expect these differences to change if the sample size is increased."
   ]
  },
  {
   "cell_type": "markdown",
   "id": "c2736cd3",
   "metadata": {},
   "source": [
    "## **Problem 03** -  t-Tests\n",
    "\n",
    "**Assignment Instructions:**\n",
    "\n",
    "A type II error occurs when a test fails to reject the null hypothesis even though it is false.\n",
    "For each mean difference $d = 0, 0.1, 0.2, \\dots, 1.0$, repeat the following simulation 1,000 times:\n",
    "\n",
    "1. Draw two samples of size 100, one from the standard normal distribution and one from the normal distribution with mean $d$ and standard deviation 1.\n",
    "2. Run an independent samples t-test on the two samples, rejecting the null hypothesis if the p-value is less than 0.05.\n",
    "3. Record the proportion of times the null hypothesis is not rejected.\n",
    "\n",
    "Plot this proportion against $d$, and explain how the type II error rate changes as the difference in means increases."
   ]
  },
  {
   "cell_type": "markdown",
   "id": "2446e338",
   "metadata": {},
   "source": [
    "## **Problem 04** -  ANOVA\n",
    "\n",
    "**Assignment Instructions:**\n",
    "\n",
    "Generate three independent samples, each of size 30, from normal distributions with means 0, 0.5, and 1, each with standard deviation 1.\n",
    "\n",
    "1. Perform a one-way ANOVA to test whether all three means are equal.\n",
    "2. Perform three independent two-sample t-tests: samples 1 vs 2, 1 vs 3, and 2 vs 3.\n",
    "3. Compare the conclusions.\n",
    "\n",
    "Write a short note on why ANOVA is preferred over running several t-tests."
   ]
  }
 ],
 "metadata": {
  "kernelspec": {
   "display_name": "Python 3",
   "language": "python",
   "name": "python3"
  },
  "language_info": {
   "codemirror_mode": {
    "name": "ipython",
    "version": 3
   },
   "file_extension": ".py",
   "mimetype": "text/x-python",
   "name": "python",
   "nbconvert_exporter": "python",
   "pygments_lexer": "ipython3",
   "version": "3.13.7"
  }
 },
 "nbformat": 4,
 "nbformat_minor": 5
}
